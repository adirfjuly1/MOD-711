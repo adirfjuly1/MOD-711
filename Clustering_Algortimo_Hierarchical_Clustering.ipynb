{
  "nbformat": 4,
  "nbformat_minor": 0,
  "metadata": {
    "colab": {
      "provenance": [],
      "include_colab_link": true
    },
    "kernelspec": {
      "name": "python3",
      "display_name": "Python 3"
    },
    "language_info": {
      "name": "python"
    }
  },
  "cells": [
    {
      "cell_type": "markdown",
      "metadata": {
        "id": "view-in-github",
        "colab_type": "text"
      },
      "source": [
        "<a href=\"https://colab.research.google.com/github/adirfjuly1/MOD-711/blob/main/Clustering_Algortimo_Hierarchical_Clustering.ipynb\" target=\"_parent\"><img src=\"https://colab.research.google.com/assets/colab-badge.svg\" alt=\"Open In Colab\"/></a>"
      ]
    },
    {
      "cell_type": "markdown",
      "source": [
        "## MOD-711 MACHINE LEARNING  (Grupo AI Clustering)\n",
        "## Clustering - Algortimo Hierarchical Clustering\n",
        "\n",
        "#### Integrantes:\n",
        "- Frida Aduviri\n",
        "- Licett Ancari\n",
        "- Javier Vallejos"
      ],
      "metadata": {
        "id": "UTS6BSbCL4sw"
      }
    },
    {
      "cell_type": "markdown",
      "source": [
        "## 1. Descripción"
      ],
      "metadata": {
        "id": "bvyjxv1aMF9C"
      }
    },
    {
      "cell_type": "markdown",
      "source": [
        "El algoritmo Hierarchical Clustering (Agrupamiento Jerárquico) es un enfoque de clustering utilizado para agrupar datos en una estructura jerárquica de clústeres. A diferencia de otros métodos de clustering, el Clustering Jerarquico no requiere que especifiques el número de clústeres de antemano. En cambio, crea una jerarquía de clústeres donde los clústeres más pequeños están contenidos dentro de clústeres más grandes, formando un árbol o dendrograma."
      ],
      "metadata": {
        "id": "iagHYjSZRYWx"
      }
    },
    {
      "cell_type": "markdown",
      "source": [
        "## 2. Birtex y Referencias:"
      ],
      "metadata": {
        "id": "BgAosiGKMICe"
      }
    },
    {
      "cell_type": "markdown",
      "source": [
        "* @article{berzal2017clustering,\n",
        "  title={Clustering jer{\\'a}rquico},\n",
        "  author={Berzal, Fernando},\n",
        "  journal={Universidad de Granada,[En l{\\'\\i}nea]. Available: https://elvex. ugr. es/idbis/dm/slides/42\\% 20Clustering},\n",
        "  year={2017}\n",
        "}"
      ],
      "metadata": {
        "id": "NRirwspKOgiw"
      }
    },
    {
      "cell_type": "markdown",
      "source": [
        "## 3. Tipo de Modelo:"
      ],
      "metadata": {
        "id": "SCC4SVK3MLWZ"
      }
    },
    {
      "cell_type": "markdown",
      "source": [
        "**Método de Aprendizaje:**Es un método de aprendizaje no supervisado. En el aprendizaje no supervisado, el algoritmo explora patrones y estructuras en los datos sin utilizar etiquetas o resultados previos. En el caso del clustering jerárquico, los objetos se agrupan en clústeres en función de su similitud, sin que se proporcionen etiquetas o categorías de antemano.\n",
        "\n",
        "**Por Parámetro:** Clustering Jerárquico es un enfoque que no se basa en parámetros que se optimizan durante el entrenamiento. No ajusta parámetros internos del algoritmo según los datos de entrada. Más bien, requiere que tomes decisiones sobre cómo se llevará a cabo el proceso de agrupamiento, como la elección de métodos de enlace, métricas de distancia y criterios de corte.\n",
        "\n",
        "**Datos de Aprendizaje:** Funciona en un enfoque \"offline\"  lo que significa que opera en un conjunto de datos fijo y no se adapta a nuevos datos que llegan de manera continua.\n",
        "\n",
        "**Resultado del Entrenamiento:** Ealgoritmo de Clustering Jerárquico no es un \"modelo\" ya que el resultado es una estructura jerárquica de clústeres que puede representarse visualmente a través de un dendrograma.\n"
      ],
      "metadata": {
        "id": "AXLeGpLJZczo"
      }
    },
    {
      "cell_type": "markdown",
      "source": [
        "## 4. Algoritmos de Entrenamiento:"
      ],
      "metadata": {
        "id": "kDA0oYuiMUDZ"
      }
    },
    {
      "cell_type": "markdown",
      "source": [
        "•\tBIRCH: Balanced Iterative Reducing and Clustering using Hierarchies (Zhang, Ramakrishnan & Livny, SIGMOD’1996)\n",
        "\n",
        "•\tCURE: Clustering Using REpresentatives (Guha, Rastogi & Shim, SIGMOD’1998)\n",
        "\n",
        "•\tROCK: RObust Clustering using linKs (Guha, Rastogi & Shim, ICDE’1999)\n",
        "\n",
        "•\tCHAMELEON: Hierarchical Clustering Using Dynamic Modeling (Karypis, Han & Kumar, 1999)\n",
        "\n",
        "BIRCH: Se basa en una estructura de datos jerárquica llamada CF Tree [Clustering Feature Tree]\n",
        "\n",
        "FASE 1: Se construye un árbol CF inicial en memoria (compresión “multi-nivel” de los datos que intenta preservar la estructura de los agrupamientos del conjunto de datos original).\n",
        "\n",
        "FASE 2: Se utiliza un algoritmo de clustering arbitrario para agrupar los nodos hoja del árbol CF (p.ej. cualquier algoritmo jerárquico aglomerativo). Clustering Feature (CF): CF = (N, LS, SS) N: Number of data points LS: linear sum of N points SS: square sum of N points.\n",
        "\n",
        "El árbol CF es un árbol balanceado en el que los nodos internos almacenan las sumas de los CFs de sus descendientes.\n",
        "\n",
        "Un árbol CF tiene dos parámetros: el número máximo de hijos de un nodo y el diámetro máximo de los subclusters almacenados en las hojas del árbol.\n",
        "\n",
        "Para cada punto, se encuentra la hoja más cercana, se añade a su cluster y se actualiza su CF. Si el diámetro del subcluster es mayor que el diámetro máximo admitido, se divide la hoja (y puede que sus ascendientes).\n",
        "\n",
        "ROCK [Agrupación robusta mediante enlaces]:\n",
        "Número de vecinos compartidos Una medida de similitud más:\n"
      ],
      "metadata": {
        "id": "qgPtDQxwZ4HG"
      }
    },
    {
      "cell_type": "markdown",
      "source": [
        "## 5. Supuestos y Restricciones:"
      ],
      "metadata": {
        "id": "-Ee0kj1eMa4G"
      }
    },
    {
      "cell_type": "markdown",
      "source": [
        "\n",
        "El algoritmo de Clustering Jerárquico no está basado en supuestos específicos como algunos algoritmos de regresión o clasificación. Sin embargo, hay algunas consideraciones y restricciones que debes tener en cuenta al utilizar este enfoque:\n",
        "\n",
        "**1. Métrica de Distancia :**\n",
        "Debes elegir una métrica de distancia adecuada para calcular la similitud entre puntos de datos o clústeres. La elección de la métrica puede afectar los resultados del agrupamiento. Es importante seleccionar una métrica que tenga sentido para tus datos y el problema que estás abordando.\n",
        "\n",
        "**2. Sensibilidad a la Escala:**\n",
        "El Clustering Jerárquico puede ser sensible a la escala de las variables. Si algunas variables tienen escalas muy diferentes, es posible que la métrica de distancia sea dominada por las variables con mayor escala. La normalización o estandarización de los datos puede ser necesaria para mitigar este problema.\n",
        "\n",
        "**3. Complejidad Computacional:**\n",
        "El Clustering Jerárquico puede volverse computacionalmente intensivo, especialmente en conjuntos de datos grandes. El cálculo de distancias y la construcción del dendrograma pueden requerir mucho tiempo y recursos en datasets extensos.\n",
        "\n",
        "**4. Elección del Método de Enlace:**\n",
        "Debes decidir qué método de enlace utilizar para calcular la distancia entre clústeres durante el proceso de agrupamiento. Los diferentes métodos pueden conducir a agrupamientos ligeramente diferentes. La elección del método de enlace puede depender de la estructura de tus datos y tus objetivos.\n",
        "\n",
        "**5. Interpretación del Dendrograma:**\n",
        "Interpretar el dendrograma puede ser subjetivo y depende de tus objetivos de análisis. Decidir dónde cortar el dendrograma para formar clústeres puede afectar la interpretación de los resultados. No hay una regla estricta para determinar cuántos clústeres son los adecuados.\n",
        "\n",
        "**6. No Adaptable en Línea:**\n",
        "El Clustering Jerárquico no se adapta bien a nuevos datos en tiempo real. Una vez que se construye el dendrograma, es difícil agregar nuevos datos o ajustar los clústeres de manera eficiente.\n",
        "\n"
      ],
      "metadata": {
        "id": "pUfcFWJJip2B"
      }
    },
    {
      "cell_type": "markdown",
      "source": [
        "## Ejemplo"
      ],
      "metadata": {
        "id": "eeHwmP89Me0x"
      }
    },
    {
      "cell_type": "code",
      "source": [
        "import pandas as pd\n",
        "import numpy as np\n",
        "import matplotlib.pyplot as plt\n",
        "\n",
        "from sklearn.cluster import AgglomerativeClustering\n",
        "from sklearn.preprocessing import StandardScaler, normalize\n",
        "from sklearn.decomposition import PCA\n",
        "from sklearn.metrics import silhouette_score\n",
        "import scipy.cluster.hierarchy as shc"
      ],
      "metadata": {
        "id": "VgIHH4SlN1PP"
      },
      "execution_count": null,
      "outputs": []
    },
    {
      "cell_type": "code",
      "source": [
        "raw_df = pd.read_csv('../CC GENERAL.csv')\n",
        "raw_df = raw_df.drop('CUST_ID', axis = 1)\n",
        "raw_df.fillna(method ='ffill', inplace = True)\n",
        "raw_df.head(10)"
      ],
      "metadata": {
        "id": "T0HuSPJfOP96",
        "colab": {
          "base_uri": "https://localhost:8080/",
          "height": 383
        },
        "outputId": "f33ebf29-d3dd-4eb5-b02b-9faae1a9821f"
      },
      "execution_count": null,
      "outputs": [
        {
          "output_type": "execute_result",
          "data": {
            "text/plain": [
              "       BALANCE  BALANCE_FREQUENCY  PURCHASES  ONEOFF_PURCHASES  \\\n",
              "0    40.900749           0.818182      95.40              0.00   \n",
              "1  3202.467416           0.909091       0.00              0.00   \n",
              "2  2495.148862           1.000000     773.17            773.17   \n",
              "3  1666.670542           0.636364    1499.00           1499.00   \n",
              "4   817.714335           1.000000      16.00             16.00   \n",
              "5  1809.828751           1.000000    1333.28              0.00   \n",
              "6   627.260806           1.000000    7091.01           6402.63   \n",
              "7  1823.652743           1.000000     436.20              0.00   \n",
              "8  1014.926473           1.000000     861.49            661.49   \n",
              "9   152.225975           0.545455    1281.60           1281.60   \n",
              "\n",
              "   INSTALLMENTS_PURCHASES  CASH_ADVANCE  PURCHASES_FREQUENCY  \\\n",
              "0                   95.40      0.000000             0.166667   \n",
              "1                    0.00   6442.945483             0.000000   \n",
              "2                    0.00      0.000000             1.000000   \n",
              "3                    0.00    205.788017             0.083333   \n",
              "4                    0.00      0.000000             0.083333   \n",
              "5                 1333.28      0.000000             0.666667   \n",
              "6                  688.38      0.000000             1.000000   \n",
              "7                  436.20      0.000000             1.000000   \n",
              "8                  200.00      0.000000             0.333333   \n",
              "9                    0.00      0.000000             0.166667   \n",
              "\n",
              "   ONEOFF_PURCHASES_FREQUENCY  PURCHASES_INSTALLMENTS_FREQUENCY  \\\n",
              "0                    0.000000                          0.083333   \n",
              "1                    0.000000                          0.000000   \n",
              "2                    1.000000                          0.000000   \n",
              "3                    0.083333                          0.000000   \n",
              "4                    0.083333                          0.000000   \n",
              "5                    0.000000                          0.583333   \n",
              "6                    1.000000                          1.000000   \n",
              "7                    0.000000                          1.000000   \n",
              "8                    0.083333                          0.250000   \n",
              "9                    0.166667                          0.000000   \n",
              "\n",
              "   CASH_ADVANCE_FREQUENCY  CASH_ADVANCE_TRX  PURCHASES_TRX  CREDIT_LIMIT  \\\n",
              "0                0.000000                 0              2        1000.0   \n",
              "1                0.250000                 4              0        7000.0   \n",
              "2                0.000000                 0             12        7500.0   \n",
              "3                0.083333                 1              1        7500.0   \n",
              "4                0.000000                 0              1        1200.0   \n",
              "5                0.000000                 0              8        1800.0   \n",
              "6                0.000000                 0             64       13500.0   \n",
              "7                0.000000                 0             12        2300.0   \n",
              "8                0.000000                 0              5        7000.0   \n",
              "9                0.000000                 0              3       11000.0   \n",
              "\n",
              "      PAYMENTS  MINIMUM_PAYMENTS  PRC_FULL_PAYMENT  TENURE  \n",
              "0   201.802084        139.509787          0.000000      12  \n",
              "1  4103.032597       1072.340217          0.222222      12  \n",
              "2   622.066742        627.284787          0.000000      12  \n",
              "3     0.000000        627.284787          0.000000      12  \n",
              "4   678.334763        244.791237          0.000000      12  \n",
              "5  1400.057770       2407.246035          0.000000      12  \n",
              "6  6354.314328        198.065894          1.000000      12  \n",
              "7   679.065082        532.033990          0.000000      12  \n",
              "8   688.278568        311.963409          0.000000      12  \n",
              "9  1164.770591        100.302262          0.000000      12  "
            ],
            "text/html": [
              "\n",
              "  <div id=\"df-bd13a8fa-80a8-4c2d-b494-9f8a97bbaf9a\" class=\"colab-df-container\">\n",
              "    <div>\n",
              "<style scoped>\n",
              "    .dataframe tbody tr th:only-of-type {\n",
              "        vertical-align: middle;\n",
              "    }\n",
              "\n",
              "    .dataframe tbody tr th {\n",
              "        vertical-align: top;\n",
              "    }\n",
              "\n",
              "    .dataframe thead th {\n",
              "        text-align: right;\n",
              "    }\n",
              "</style>\n",
              "<table border=\"1\" class=\"dataframe\">\n",
              "  <thead>\n",
              "    <tr style=\"text-align: right;\">\n",
              "      <th></th>\n",
              "      <th>BALANCE</th>\n",
              "      <th>BALANCE_FREQUENCY</th>\n",
              "      <th>PURCHASES</th>\n",
              "      <th>ONEOFF_PURCHASES</th>\n",
              "      <th>INSTALLMENTS_PURCHASES</th>\n",
              "      <th>CASH_ADVANCE</th>\n",
              "      <th>PURCHASES_FREQUENCY</th>\n",
              "      <th>ONEOFF_PURCHASES_FREQUENCY</th>\n",
              "      <th>PURCHASES_INSTALLMENTS_FREQUENCY</th>\n",
              "      <th>CASH_ADVANCE_FREQUENCY</th>\n",
              "      <th>CASH_ADVANCE_TRX</th>\n",
              "      <th>PURCHASES_TRX</th>\n",
              "      <th>CREDIT_LIMIT</th>\n",
              "      <th>PAYMENTS</th>\n",
              "      <th>MINIMUM_PAYMENTS</th>\n",
              "      <th>PRC_FULL_PAYMENT</th>\n",
              "      <th>TENURE</th>\n",
              "    </tr>\n",
              "  </thead>\n",
              "  <tbody>\n",
              "    <tr>\n",
              "      <th>0</th>\n",
              "      <td>40.900749</td>\n",
              "      <td>0.818182</td>\n",
              "      <td>95.40</td>\n",
              "      <td>0.00</td>\n",
              "      <td>95.40</td>\n",
              "      <td>0.000000</td>\n",
              "      <td>0.166667</td>\n",
              "      <td>0.000000</td>\n",
              "      <td>0.083333</td>\n",
              "      <td>0.000000</td>\n",
              "      <td>0</td>\n",
              "      <td>2</td>\n",
              "      <td>1000.0</td>\n",
              "      <td>201.802084</td>\n",
              "      <td>139.509787</td>\n",
              "      <td>0.000000</td>\n",
              "      <td>12</td>\n",
              "    </tr>\n",
              "    <tr>\n",
              "      <th>1</th>\n",
              "      <td>3202.467416</td>\n",
              "      <td>0.909091</td>\n",
              "      <td>0.00</td>\n",
              "      <td>0.00</td>\n",
              "      <td>0.00</td>\n",
              "      <td>6442.945483</td>\n",
              "      <td>0.000000</td>\n",
              "      <td>0.000000</td>\n",
              "      <td>0.000000</td>\n",
              "      <td>0.250000</td>\n",
              "      <td>4</td>\n",
              "      <td>0</td>\n",
              "      <td>7000.0</td>\n",
              "      <td>4103.032597</td>\n",
              "      <td>1072.340217</td>\n",
              "      <td>0.222222</td>\n",
              "      <td>12</td>\n",
              "    </tr>\n",
              "    <tr>\n",
              "      <th>2</th>\n",
              "      <td>2495.148862</td>\n",
              "      <td>1.000000</td>\n",
              "      <td>773.17</td>\n",
              "      <td>773.17</td>\n",
              "      <td>0.00</td>\n",
              "      <td>0.000000</td>\n",
              "      <td>1.000000</td>\n",
              "      <td>1.000000</td>\n",
              "      <td>0.000000</td>\n",
              "      <td>0.000000</td>\n",
              "      <td>0</td>\n",
              "      <td>12</td>\n",
              "      <td>7500.0</td>\n",
              "      <td>622.066742</td>\n",
              "      <td>627.284787</td>\n",
              "      <td>0.000000</td>\n",
              "      <td>12</td>\n",
              "    </tr>\n",
              "    <tr>\n",
              "      <th>3</th>\n",
              "      <td>1666.670542</td>\n",
              "      <td>0.636364</td>\n",
              "      <td>1499.00</td>\n",
              "      <td>1499.00</td>\n",
              "      <td>0.00</td>\n",
              "      <td>205.788017</td>\n",
              "      <td>0.083333</td>\n",
              "      <td>0.083333</td>\n",
              "      <td>0.000000</td>\n",
              "      <td>0.083333</td>\n",
              "      <td>1</td>\n",
              "      <td>1</td>\n",
              "      <td>7500.0</td>\n",
              "      <td>0.000000</td>\n",
              "      <td>627.284787</td>\n",
              "      <td>0.000000</td>\n",
              "      <td>12</td>\n",
              "    </tr>\n",
              "    <tr>\n",
              "      <th>4</th>\n",
              "      <td>817.714335</td>\n",
              "      <td>1.000000</td>\n",
              "      <td>16.00</td>\n",
              "      <td>16.00</td>\n",
              "      <td>0.00</td>\n",
              "      <td>0.000000</td>\n",
              "      <td>0.083333</td>\n",
              "      <td>0.083333</td>\n",
              "      <td>0.000000</td>\n",
              "      <td>0.000000</td>\n",
              "      <td>0</td>\n",
              "      <td>1</td>\n",
              "      <td>1200.0</td>\n",
              "      <td>678.334763</td>\n",
              "      <td>244.791237</td>\n",
              "      <td>0.000000</td>\n",
              "      <td>12</td>\n",
              "    </tr>\n",
              "    <tr>\n",
              "      <th>5</th>\n",
              "      <td>1809.828751</td>\n",
              "      <td>1.000000</td>\n",
              "      <td>1333.28</td>\n",
              "      <td>0.00</td>\n",
              "      <td>1333.28</td>\n",
              "      <td>0.000000</td>\n",
              "      <td>0.666667</td>\n",
              "      <td>0.000000</td>\n",
              "      <td>0.583333</td>\n",
              "      <td>0.000000</td>\n",
              "      <td>0</td>\n",
              "      <td>8</td>\n",
              "      <td>1800.0</td>\n",
              "      <td>1400.057770</td>\n",
              "      <td>2407.246035</td>\n",
              "      <td>0.000000</td>\n",
              "      <td>12</td>\n",
              "    </tr>\n",
              "    <tr>\n",
              "      <th>6</th>\n",
              "      <td>627.260806</td>\n",
              "      <td>1.000000</td>\n",
              "      <td>7091.01</td>\n",
              "      <td>6402.63</td>\n",
              "      <td>688.38</td>\n",
              "      <td>0.000000</td>\n",
              "      <td>1.000000</td>\n",
              "      <td>1.000000</td>\n",
              "      <td>1.000000</td>\n",
              "      <td>0.000000</td>\n",
              "      <td>0</td>\n",
              "      <td>64</td>\n",
              "      <td>13500.0</td>\n",
              "      <td>6354.314328</td>\n",
              "      <td>198.065894</td>\n",
              "      <td>1.000000</td>\n",
              "      <td>12</td>\n",
              "    </tr>\n",
              "    <tr>\n",
              "      <th>7</th>\n",
              "      <td>1823.652743</td>\n",
              "      <td>1.000000</td>\n",
              "      <td>436.20</td>\n",
              "      <td>0.00</td>\n",
              "      <td>436.20</td>\n",
              "      <td>0.000000</td>\n",
              "      <td>1.000000</td>\n",
              "      <td>0.000000</td>\n",
              "      <td>1.000000</td>\n",
              "      <td>0.000000</td>\n",
              "      <td>0</td>\n",
              "      <td>12</td>\n",
              "      <td>2300.0</td>\n",
              "      <td>679.065082</td>\n",
              "      <td>532.033990</td>\n",
              "      <td>0.000000</td>\n",
              "      <td>12</td>\n",
              "    </tr>\n",
              "    <tr>\n",
              "      <th>8</th>\n",
              "      <td>1014.926473</td>\n",
              "      <td>1.000000</td>\n",
              "      <td>861.49</td>\n",
              "      <td>661.49</td>\n",
              "      <td>200.00</td>\n",
              "      <td>0.000000</td>\n",
              "      <td>0.333333</td>\n",
              "      <td>0.083333</td>\n",
              "      <td>0.250000</td>\n",
              "      <td>0.000000</td>\n",
              "      <td>0</td>\n",
              "      <td>5</td>\n",
              "      <td>7000.0</td>\n",
              "      <td>688.278568</td>\n",
              "      <td>311.963409</td>\n",
              "      <td>0.000000</td>\n",
              "      <td>12</td>\n",
              "    </tr>\n",
              "    <tr>\n",
              "      <th>9</th>\n",
              "      <td>152.225975</td>\n",
              "      <td>0.545455</td>\n",
              "      <td>1281.60</td>\n",
              "      <td>1281.60</td>\n",
              "      <td>0.00</td>\n",
              "      <td>0.000000</td>\n",
              "      <td>0.166667</td>\n",
              "      <td>0.166667</td>\n",
              "      <td>0.000000</td>\n",
              "      <td>0.000000</td>\n",
              "      <td>0</td>\n",
              "      <td>3</td>\n",
              "      <td>11000.0</td>\n",
              "      <td>1164.770591</td>\n",
              "      <td>100.302262</td>\n",
              "      <td>0.000000</td>\n",
              "      <td>12</td>\n",
              "    </tr>\n",
              "  </tbody>\n",
              "</table>\n",
              "</div>\n",
              "    <div class=\"colab-df-buttons\">\n",
              "\n",
              "  <div class=\"colab-df-container\">\n",
              "    <button class=\"colab-df-convert\" onclick=\"convertToInteractive('df-bd13a8fa-80a8-4c2d-b494-9f8a97bbaf9a')\"\n",
              "            title=\"Convert this dataframe to an interactive table.\"\n",
              "            style=\"display:none;\">\n",
              "\n",
              "  <svg xmlns=\"http://www.w3.org/2000/svg\" height=\"24px\" viewBox=\"0 -960 960 960\">\n",
              "    <path d=\"M120-120v-720h720v720H120Zm60-500h600v-160H180v160Zm220 220h160v-160H400v160Zm0 220h160v-160H400v160ZM180-400h160v-160H180v160Zm440 0h160v-160H620v160ZM180-180h160v-160H180v160Zm440 0h160v-160H620v160Z\"/>\n",
              "  </svg>\n",
              "    </button>\n",
              "\n",
              "  <style>\n",
              "    .colab-df-container {\n",
              "      display:flex;\n",
              "      gap: 12px;\n",
              "    }\n",
              "\n",
              "    .colab-df-convert {\n",
              "      background-color: #E8F0FE;\n",
              "      border: none;\n",
              "      border-radius: 50%;\n",
              "      cursor: pointer;\n",
              "      display: none;\n",
              "      fill: #1967D2;\n",
              "      height: 32px;\n",
              "      padding: 0 0 0 0;\n",
              "      width: 32px;\n",
              "    }\n",
              "\n",
              "    .colab-df-convert:hover {\n",
              "      background-color: #E2EBFA;\n",
              "      box-shadow: 0px 1px 2px rgba(60, 64, 67, 0.3), 0px 1px 3px 1px rgba(60, 64, 67, 0.15);\n",
              "      fill: #174EA6;\n",
              "    }\n",
              "\n",
              "    .colab-df-buttons div {\n",
              "      margin-bottom: 4px;\n",
              "    }\n",
              "\n",
              "    [theme=dark] .colab-df-convert {\n",
              "      background-color: #3B4455;\n",
              "      fill: #D2E3FC;\n",
              "    }\n",
              "\n",
              "    [theme=dark] .colab-df-convert:hover {\n",
              "      background-color: #434B5C;\n",
              "      box-shadow: 0px 1px 3px 1px rgba(0, 0, 0, 0.15);\n",
              "      filter: drop-shadow(0px 1px 2px rgba(0, 0, 0, 0.3));\n",
              "      fill: #FFFFFF;\n",
              "    }\n",
              "  </style>\n",
              "\n",
              "    <script>\n",
              "      const buttonEl =\n",
              "        document.querySelector('#df-bd13a8fa-80a8-4c2d-b494-9f8a97bbaf9a button.colab-df-convert');\n",
              "      buttonEl.style.display =\n",
              "        google.colab.kernel.accessAllowed ? 'block' : 'none';\n",
              "\n",
              "      async function convertToInteractive(key) {\n",
              "        const element = document.querySelector('#df-bd13a8fa-80a8-4c2d-b494-9f8a97bbaf9a');\n",
              "        const dataTable =\n",
              "          await google.colab.kernel.invokeFunction('convertToInteractive',\n",
              "                                                    [key], {});\n",
              "        if (!dataTable) return;\n",
              "\n",
              "        const docLinkHtml = 'Like what you see? Visit the ' +\n",
              "          '<a target=\"_blank\" href=https://colab.research.google.com/notebooks/data_table.ipynb>data table notebook</a>'\n",
              "          + ' to learn more about interactive tables.';\n",
              "        element.innerHTML = '';\n",
              "        dataTable['output_type'] = 'display_data';\n",
              "        await google.colab.output.renderOutput(dataTable, element);\n",
              "        const docLink = document.createElement('div');\n",
              "        docLink.innerHTML = docLinkHtml;\n",
              "        element.appendChild(docLink);\n",
              "      }\n",
              "    </script>\n",
              "  </div>\n",
              "\n",
              "\n",
              "<div id=\"df-4dd1ee2a-74c1-4663-af42-5a49acaf5cdd\">\n",
              "  <button class=\"colab-df-quickchart\" onclick=\"quickchart('df-4dd1ee2a-74c1-4663-af42-5a49acaf5cdd')\"\n",
              "            title=\"Suggest charts.\"\n",
              "            style=\"display:none;\">\n",
              "\n",
              "<svg xmlns=\"http://www.w3.org/2000/svg\" height=\"24px\"viewBox=\"0 0 24 24\"\n",
              "     width=\"24px\">\n",
              "    <g>\n",
              "        <path d=\"M19 3H5c-1.1 0-2 .9-2 2v14c0 1.1.9 2 2 2h14c1.1 0 2-.9 2-2V5c0-1.1-.9-2-2-2zM9 17H7v-7h2v7zm4 0h-2V7h2v10zm4 0h-2v-4h2v4z\"/>\n",
              "    </g>\n",
              "</svg>\n",
              "  </button>\n",
              "\n",
              "<style>\n",
              "  .colab-df-quickchart {\n",
              "    background-color: #E8F0FE;\n",
              "    border: none;\n",
              "    border-radius: 50%;\n",
              "    cursor: pointer;\n",
              "    display: none;\n",
              "    fill: #1967D2;\n",
              "    height: 32px;\n",
              "    padding: 0 0 0 0;\n",
              "    width: 32px;\n",
              "  }\n",
              "\n",
              "  .colab-df-quickchart:hover {\n",
              "    background-color: #E2EBFA;\n",
              "    box-shadow: 0px 1px 2px rgba(60, 64, 67, 0.3), 0px 1px 3px 1px rgba(60, 64, 67, 0.15);\n",
              "    fill: #174EA6;\n",
              "  }\n",
              "\n",
              "  [theme=dark] .colab-df-quickchart {\n",
              "    background-color: #3B4455;\n",
              "    fill: #D2E3FC;\n",
              "  }\n",
              "\n",
              "  [theme=dark] .colab-df-quickchart:hover {\n",
              "    background-color: #434B5C;\n",
              "    box-shadow: 0px 1px 3px 1px rgba(0, 0, 0, 0.15);\n",
              "    filter: drop-shadow(0px 1px 2px rgba(0, 0, 0, 0.3));\n",
              "    fill: #FFFFFF;\n",
              "  }\n",
              "</style>\n",
              "\n",
              "  <script>\n",
              "    async function quickchart(key) {\n",
              "      const charts = await google.colab.kernel.invokeFunction(\n",
              "          'suggestCharts', [key], {});\n",
              "    }\n",
              "    (() => {\n",
              "      let quickchartButtonEl =\n",
              "        document.querySelector('#df-4dd1ee2a-74c1-4663-af42-5a49acaf5cdd button');\n",
              "      quickchartButtonEl.style.display =\n",
              "        google.colab.kernel.accessAllowed ? 'block' : 'none';\n",
              "    })();\n",
              "  </script>\n",
              "</div>\n",
              "    </div>\n",
              "  </div>\n"
            ]
          },
          "metadata": {},
          "execution_count": 6
        }
      ]
    },
    {
      "cell_type": "markdown",
      "source": [
        "# Estandarización del conjunto de datos."
      ],
      "metadata": {
        "id": "IZENJe0YRuSx"
      }
    },
    {
      "cell_type": "markdown",
      "source": [
        "StandardScaler(): Es una clase de la librería sklearn.preprocessing que se utiliza para realizar la estandarización de características.\n"
      ],
      "metadata": {
        "id": "P_dEchPWSEYF"
      }
    },
    {
      "cell_type": "code",
      "source": [
        "# Standardize data\n",
        "scaler = StandardScaler()\n",
        "scaled_df = scaler.fit_transform(raw_df)"
      ],
      "metadata": {
        "id": "gePW5NDDRrTi"
      },
      "execution_count": null,
      "outputs": []
    },
    {
      "cell_type": "markdown",
      "source": [
        "El resultado, almacenado en scaled_df, es una nueva matriz que contiene los datos originales después de haber sido estandarizados. Ahora las características tienen una media de cero y una desviación estándar de uno."
      ],
      "metadata": {
        "id": "PbUq6ULTSofm"
      }
    },
    {
      "cell_type": "markdown",
      "source": [
        "# Normalizción de los datos."
      ],
      "metadata": {
        "id": "_qMH3OGWTTos"
      }
    },
    {
      "cell_type": "code",
      "source": [
        "# Normalizing the Data\n",
        "normalized_df = normalize(scaled_df)"
      ],
      "metadata": {
        "id": "RpJ5UxqMTaQK"
      },
      "execution_count": null,
      "outputs": []
    },
    {
      "cell_type": "code",
      "source": [
        "# Converting the numpy array into a pandas DataFrame\n",
        "normalized_df = pd.DataFrame(normalized_df)\n",
        "\n",
        "# Reducing the dimensions of the data\n",
        "pca = PCA(n_components = 2)\n",
        "X_principal = pca.fit_transform(normalized_df)\n",
        "X_principal = pd.DataFrame(X_principal)\n",
        "X_principal.columns = ['P1', 'P2']\n",
        "\n",
        "X_principal.head(2)"
      ],
      "metadata": {
        "colab": {
          "base_uri": "https://localhost:8080/",
          "height": 112
        },
        "id": "ZYc6VtgSPSpQ",
        "outputId": "557ec528-b6a2-44c4-e197-7334d781ac41"
      },
      "execution_count": null,
      "outputs": [
        {
          "output_type": "execute_result",
          "data": {
            "text/plain": [
              "         P1        P2\n",
              "0 -0.489949 -0.679979\n",
              "1 -0.519100  0.544819"
            ],
            "text/html": [
              "\n",
              "  <div id=\"df-54ddbfb7-9cb2-4919-b260-0094f08eedb7\" class=\"colab-df-container\">\n",
              "    <div>\n",
              "<style scoped>\n",
              "    .dataframe tbody tr th:only-of-type {\n",
              "        vertical-align: middle;\n",
              "    }\n",
              "\n",
              "    .dataframe tbody tr th {\n",
              "        vertical-align: top;\n",
              "    }\n",
              "\n",
              "    .dataframe thead th {\n",
              "        text-align: right;\n",
              "    }\n",
              "</style>\n",
              "<table border=\"1\" class=\"dataframe\">\n",
              "  <thead>\n",
              "    <tr style=\"text-align: right;\">\n",
              "      <th></th>\n",
              "      <th>P1</th>\n",
              "      <th>P2</th>\n",
              "    </tr>\n",
              "  </thead>\n",
              "  <tbody>\n",
              "    <tr>\n",
              "      <th>0</th>\n",
              "      <td>-0.489949</td>\n",
              "      <td>-0.679979</td>\n",
              "    </tr>\n",
              "    <tr>\n",
              "      <th>1</th>\n",
              "      <td>-0.519100</td>\n",
              "      <td>0.544819</td>\n",
              "    </tr>\n",
              "  </tbody>\n",
              "</table>\n",
              "</div>\n",
              "    <div class=\"colab-df-buttons\">\n",
              "\n",
              "  <div class=\"colab-df-container\">\n",
              "    <button class=\"colab-df-convert\" onclick=\"convertToInteractive('df-54ddbfb7-9cb2-4919-b260-0094f08eedb7')\"\n",
              "            title=\"Convert this dataframe to an interactive table.\"\n",
              "            style=\"display:none;\">\n",
              "\n",
              "  <svg xmlns=\"http://www.w3.org/2000/svg\" height=\"24px\" viewBox=\"0 -960 960 960\">\n",
              "    <path d=\"M120-120v-720h720v720H120Zm60-500h600v-160H180v160Zm220 220h160v-160H400v160Zm0 220h160v-160H400v160ZM180-400h160v-160H180v160Zm440 0h160v-160H620v160ZM180-180h160v-160H180v160Zm440 0h160v-160H620v160Z\"/>\n",
              "  </svg>\n",
              "    </button>\n",
              "\n",
              "  <style>\n",
              "    .colab-df-container {\n",
              "      display:flex;\n",
              "      gap: 12px;\n",
              "    }\n",
              "\n",
              "    .colab-df-convert {\n",
              "      background-color: #E8F0FE;\n",
              "      border: none;\n",
              "      border-radius: 50%;\n",
              "      cursor: pointer;\n",
              "      display: none;\n",
              "      fill: #1967D2;\n",
              "      height: 32px;\n",
              "      padding: 0 0 0 0;\n",
              "      width: 32px;\n",
              "    }\n",
              "\n",
              "    .colab-df-convert:hover {\n",
              "      background-color: #E2EBFA;\n",
              "      box-shadow: 0px 1px 2px rgba(60, 64, 67, 0.3), 0px 1px 3px 1px rgba(60, 64, 67, 0.15);\n",
              "      fill: #174EA6;\n",
              "    }\n",
              "\n",
              "    .colab-df-buttons div {\n",
              "      margin-bottom: 4px;\n",
              "    }\n",
              "\n",
              "    [theme=dark] .colab-df-convert {\n",
              "      background-color: #3B4455;\n",
              "      fill: #D2E3FC;\n",
              "    }\n",
              "\n",
              "    [theme=dark] .colab-df-convert:hover {\n",
              "      background-color: #434B5C;\n",
              "      box-shadow: 0px 1px 3px 1px rgba(0, 0, 0, 0.15);\n",
              "      filter: drop-shadow(0px 1px 2px rgba(0, 0, 0, 0.3));\n",
              "      fill: #FFFFFF;\n",
              "    }\n",
              "  </style>\n",
              "\n",
              "    <script>\n",
              "      const buttonEl =\n",
              "        document.querySelector('#df-54ddbfb7-9cb2-4919-b260-0094f08eedb7 button.colab-df-convert');\n",
              "      buttonEl.style.display =\n",
              "        google.colab.kernel.accessAllowed ? 'block' : 'none';\n",
              "\n",
              "      async function convertToInteractive(key) {\n",
              "        const element = document.querySelector('#df-54ddbfb7-9cb2-4919-b260-0094f08eedb7');\n",
              "        const dataTable =\n",
              "          await google.colab.kernel.invokeFunction('convertToInteractive',\n",
              "                                                    [key], {});\n",
              "        if (!dataTable) return;\n",
              "\n",
              "        const docLinkHtml = 'Like what you see? Visit the ' +\n",
              "          '<a target=\"_blank\" href=https://colab.research.google.com/notebooks/data_table.ipynb>data table notebook</a>'\n",
              "          + ' to learn more about interactive tables.';\n",
              "        element.innerHTML = '';\n",
              "        dataTable['output_type'] = 'display_data';\n",
              "        await google.colab.output.renderOutput(dataTable, element);\n",
              "        const docLink = document.createElement('div');\n",
              "        docLink.innerHTML = docLinkHtml;\n",
              "        element.appendChild(docLink);\n",
              "      }\n",
              "    </script>\n",
              "  </div>\n",
              "\n",
              "    </div>\n",
              "  </div>\n"
            ]
          },
          "metadata": {},
          "execution_count": 7
        }
      ]
    },
    {
      "cell_type": "code",
      "source": [
        "plt.figure(figsize =(6, 6))\n",
        "plt.title('Visualising the data')\n",
        "Dendrogram = shc.dendrogram((shc.linkage(X_principal, method ='ward')))"
      ],
      "metadata": {
        "colab": {
          "base_uri": "https://localhost:8080/",
          "height": 549
        },
        "id": "Zt1G-A67P1H5",
        "outputId": "c298424c-016f-4901-b85c-bc0e7655e652"
      },
      "execution_count": null,
      "outputs": [
        {
          "output_type": "display_data",
          "data": {
            "text/plain": [
              "<Figure size 600x600 with 1 Axes>"
            ],
            "image/png": "[encoded data removed]"
          },
          "metadata": {}
        }
      ]
    },
    {
      "cell_type": "markdown",
      "source": [
        "# Método AgglomerativeClustering"
      ],
      "metadata": {
        "id": "nvGLrG-eWVUX"
      }
    },
    {
      "cell_type": "markdown",
      "source": [
        "Se esta calculando y visualizando los valores de puntuación de silueta (silhouette score) para diferentes números de clusters desde 2 hasta 7 (grupos) utilizando el método de agrupamiento jerárquico aglomerativo."
      ],
      "metadata": {
        "id": "LglBlry_VupW"
      }
    },
    {
      "cell_type": "code",
      "source": [
        "silhouette_scores = []\n",
        "\n",
        "for n_cluster in range(2, 8):\n",
        "    silhouette_scores.append(\n",
        "        silhouette_score(X_principal, AgglomerativeClustering(n_clusters = n_cluster).fit_predict(X_principal)))"
      ],
      "metadata": {
        "id": "vf4E6SRwVtu6"
      },
      "execution_count": null,
      "outputs": []
    },
    {
      "cell_type": "markdown",
      "source": [
        "Gráfico de barras para comparar los valores de puntuación de silueta obtenidos para diferentes números de cluster"
      ],
      "metadata": {
        "id": "WRaPbSKUWiGC"
      }
    },
    {
      "cell_type": "code",
      "source": [
        "\n",
        "\n",
        "# Plotting a bar graph to compare the results\n",
        "k = [2, 3, 4, 5, 6,7]\n",
        "plt.bar(k, silhouette_scores)\n",
        "plt.xlabel('Number of clusters', fontsize = 10)\n",
        "plt.ylabel('Silhouette Score', fontsize = 10)\n",
        "plt.show()"
      ],
      "metadata": {
        "colab": {
          "base_uri": "https://localhost:8080/",
          "height": 449
        },
        "id": "Ja35yACNP7-H",
        "outputId": "3f0913d8-6025-4837-e29b-62bf514a1456"
      },
      "execution_count": null,
      "outputs": [
        {
          "output_type": "display_data",
          "data": {
            "text/plain": [
              "<Figure size 640x480 with 1 Axes>"
            ],
            "image/png": "[encoded data removed]"
          },
          "metadata": {}
        }
      ]
    },
    {
      "cell_type": "markdown",
      "source": [
        "Se calcula los valores de puntuación de silueta para diferentes números de clusters utilizando el método de agrupamiento jerárquico aglomerativo y luego traza un gráfico de barras para comparar estos valores."
      ],
      "metadata": {
        "id": "81uNU2nrVct-"
      }
    },
    {
      "cell_type": "markdown",
      "source": [
        "# Algoritmo de agrupamiento jerárquico aglomerativo (Agglomerative Clustering) para agrupar los datos en tres clusters"
      ],
      "metadata": {
        "id": "DFeN26fwXVv_"
      }
    },
    {
      "cell_type": "markdown",
      "source": [
        "Creación de instancia: Se esta creando una instancia de la clase AgglomerativeClustering de la librería sklearn.cluster. El argumento n_clusters se establece en 3, lo que significa que se esta configurando el algoritmo para formar tres clusters.\n",
        "\n",
        "Ajuste del modelo: Luego, estás ajustando el modelo del algoritmo de agrupamiento jerárquico aglomerativo a los datos en X_principal, que es el DataFrame que contiene las dos primeras componentes principales\n"
      ],
      "metadata": {
        "id": "-ompTGRnW8sv"
      }
    },
    {
      "cell_type": "code",
      "source": [
        "agg = AgglomerativeClustering(n_clusters=3)\n",
        "agg.fit(X_principal)"
      ],
      "metadata": {
        "colab": {
          "base_uri": "https://localhost:8080/",
          "height": 75
        },
        "id": "OG5Ry96bQDm7",
        "outputId": "2eee3f82-c9cc-4740-c477-1644d7923726"
      },
      "execution_count": null,
      "outputs": [
        {
          "output_type": "execute_result",
          "data": {
            "text/plain": [
              "AgglomerativeClustering(n_clusters=3)"
            ],
            "text/html": [
              "<style>#sk-container-id-1 {color: black;background-color: white;}#sk-container-id-1 pre{padding: 0;}#sk-container-id-1 div.sk-toggleable {background-color: white;}#sk-container-id-1 label.sk-toggleable__label {cursor: pointer;display: block;width: 100%;margin-bottom: 0;padding: 0.3em;box-sizing: border-box;text-align: center;}#sk-container-id-1 label.sk-toggleable__label-arrow:before {content: \"▸\";float: left;margin-right: 0.25em;color: #696969;}#sk-container-id-1 label.sk-toggleable__label-arrow:hover:before {color: black;}#sk-container-id-1 div.sk-estimator:hover label.sk-toggleable__label-arrow:before {color: black;}#sk-container-id-1 div.sk-toggleable__content {max-height: 0;max-width: 0;overflow: hidden;text-align: left;background-color: #f0f8ff;}#sk-container-id-1 div.sk-toggleable__content pre {margin: 0.2em;color: black;border-radius: 0.25em;background-color: #f0f8ff;}#sk-container-id-1 input.sk-toggleable__control:checked~div.sk-toggleable__content {max-height: 200px;max-width: 100%;overflow: auto;}#sk-container-id-1 input.sk-toggleable__control:checked~label.sk-toggleable__label-arrow:before {content: \"▾\";}#sk-container-id-1 div.sk-estimator input.sk-toggleable__control:checked~label.sk-toggleable__label {background-color: #d4ebff;}#sk-container-id-1 div.sk-label input.sk-toggleable__control:checked~label.sk-toggleable__label {background-color: #d4ebff;}#sk-container-id-1 input.sk-hidden--visually {border: 0;clip: rect(1px 1px 1px 1px);clip: rect(1px, 1px, 1px, 1px);height: 1px;margin: -1px;overflow: hidden;padding: 0;position: absolute;width: 1px;}#sk-container-id-1 div.sk-estimator {font-family: monospace;background-color: #f0f8ff;border: 1px dotted black;border-radius: 0.25em;box-sizing: border-box;margin-bottom: 0.5em;}#sk-container-id-1 div.sk-estimator:hover {background-color: #d4ebff;}#sk-container-id-1 div.sk-parallel-item::after {content: \"\";width: 100%;border-bottom: 1px solid gray;flex-grow: 1;}#sk-container-id-1 div.sk-label:hover label.sk-toggleable__label {background-color: #d4ebff;}#sk-container-id-1 div.sk-serial::before {content: \"\";position: absolute;border-left: 1px solid gray;box-sizing: border-box;top: 0;bottom: 0;left: 50%;z-index: 0;}#sk-container-id-1 div.sk-serial {display: flex;flex-direction: column;align-items: center;background-color: white;padding-right: 0.2em;padding-left: 0.2em;position: relative;}#sk-container-id-1 div.sk-item {position: relative;z-index: 1;}#sk-container-id-1 div.sk-parallel {display: flex;align-items: stretch;justify-content: center;background-color: white;position: relative;}#sk-container-id-1 div.sk-item::before, #sk-container-id-1 div.sk-parallel-item::before {content: \"\";position: absolute;border-left: 1px solid gray;box-sizing: border-box;top: 0;bottom: 0;left: 50%;z-index: -1;}#sk-container-id-1 div.sk-parallel-item {display: flex;flex-direction: column;z-index: 1;position: relative;background-color: white;}#sk-container-id-1 div.sk-parallel-item:first-child::after {align-self: flex-end;width: 50%;}#sk-container-id-1 div.sk-parallel-item:last-child::after {align-self: flex-start;width: 50%;}#sk-container-id-1 div.sk-parallel-item:only-child::after {width: 0;}#sk-container-id-1 div.sk-dashed-wrapped {border: 1px dashed gray;margin: 0 0.4em 0.5em 0.4em;box-sizing: border-box;padding-bottom: 0.4em;background-color: white;}#sk-container-id-1 div.sk-label label {font-family: monospace;font-weight: bold;display: inline-block;line-height: 1.2em;}#sk-container-id-1 div.sk-label-container {text-align: center;}#sk-container-id-1 div.sk-container {/* jupyter's `normalize.less` sets `[hidden] { display: none; }` but bootstrap.min.css set `[hidden] { display: none !important; }` so we also need the `!important` here to be able to override the default hidden behavior on the sphinx rendered scikit-learn.org. See: https://github.com/scikit-learn/scikit-learn/issues/21755 */display: inline-block !important;position: relative;}#sk-container-id-1 div.sk-text-repr-fallback {display: none;}</style><div id=\"sk-container-id-1\" class=\"sk-top-container\"><div class=\"sk-text-repr-fallback\"><pre>AgglomerativeClustering(n_clusters=3)</pre><b>In a Jupyter environment, please rerun this cell to show the HTML representation or trust the notebook. <br />On GitHub, the HTML representation is unable to render, please try loading this page with nbviewer.org.</b></div><div class=\"sk-container\" hidden><div class=\"sk-item\"><div class=\"sk-estimator sk-toggleable\"><input class=\"sk-toggleable__control sk-hidden--visually\" id=\"sk-estimator-id-1\" type=\"checkbox\" checked><label for=\"sk-estimator-id-1\" class=\"sk-toggleable__label sk-toggleable__label-arrow\">AgglomerativeClustering</label><div class=\"sk-toggleable__content\"><pre>AgglomerativeClustering(n_clusters=3)</pre></div></div></div></div></div>"
            ]
          },
          "metadata": {},
          "execution_count": 10
        }
      ]
    },
    {
      "cell_type": "markdown",
      "source": [
        "Se crea una instancia de AgglomerativeClustering con tres clusters y luego ajusta el modelo a los datos de las dos primeras componentes principales"
      ],
      "metadata": {
        "id": "o3u5bcQWXz-z"
      }
    },
    {
      "cell_type": "markdown",
      "source": [
        "Se esta visualizando los resultados del clustering utilizando una gráfica de dispersión (scatter plot)."
      ],
      "metadata": {
        "id": "4BvSeDnkX_jV"
      }
    },
    {
      "cell_type": "code",
      "source": [
        "# Visualizing the clustering\n",
        "plt.scatter(X_principal['P1'], X_principal['P2'],\n",
        "           c = AgglomerativeClustering(n_clusters = 3).fit_predict(X_principal), cmap =plt.cm.winter)\n",
        "plt.show()"
      ],
      "metadata": {
        "colab": {
          "base_uri": "https://localhost:8080/",
          "height": 430
        },
        "id": "h-YlgEbQQe2p",
        "outputId": "6772fc40-d94b-4bcd-915a-8d798b2e9df4"
      },
      "execution_count": null,
      "outputs": [
        {
          "output_type": "display_data",
          "data": {
            "text/plain": [
              "<Figure size 640x480 with 1 Axes>"
            ],
            "image/png": "[encoded data removed]"
          },
          "metadata": {}
        }
      ]
    },
    {
      "cell_type": "markdown",
      "source": [
        " Cada punto en el gráfico representa una muestra en el espacio de las dos primeras componentes principales, y el color de cada punto indica a qué cluster pertenece"
      ],
      "metadata": {
        "id": "JGHIZI0KYN-5"
      }
    }
  ]
}